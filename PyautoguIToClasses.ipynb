{
 "cells": [
  {
   "cell_type": "markdown",
   "id": "72721608",
   "metadata": {},
   "source": [
    "### Criando classes"
   ]
  },
  {
   "cell_type": "code",
   "execution_count": 1,
   "id": "43e865b8",
   "metadata": {},
   "outputs": [],
   "source": [
    "class MinhaClasse():\n",
    "    pass"
   ]
  },
  {
   "cell_type": "code",
   "execution_count": 2,
   "id": "1ee70130",
   "metadata": {},
   "outputs": [],
   "source": [
    "class MinhaClasse():\n",
    "    def metodo():\n",
    "        pass"
   ]
  },
  {
   "cell_type": "code",
   "execution_count": 4,
   "id": "2933ff80",
   "metadata": {},
   "outputs": [],
   "source": [
    "class MinhaClasse():\n",
    "    atributo = \"valor\"\n",
    "    def metodo():\n",
    "        pass"
   ]
  },
  {
   "cell_type": "code",
   "execution_count": null,
   "id": "3f6fdcc0",
   "metadata": {},
   "outputs": [],
   "source": [
    "class MinhaClasse():\n",
    "    def __init__(self):\n",
    "        self.atributo = \"valor\"\n",
    "    def metodo(self):\n",
    "        pass"
   ]
  },
  {
   "cell_type": "markdown",
   "id": "b51e29d9",
   "metadata": {},
   "source": [
    "### Exemplo simples"
   ]
  },
  {
   "cell_type": "code",
   "execution_count": 8,
   "id": "cbe066ab",
   "metadata": {},
   "outputs": [],
   "source": [
    "class Vendedor():\n",
    "    pass"
   ]
  },
  {
   "cell_type": "markdown",
   "id": "5cabe7c8",
   "metadata": {},
   "source": [
    "### Refatorando um código para POO"
   ]
  },
  {
   "cell_type": "code",
   "execution_count": 4,
   "id": "fad537dc",
   "metadata": {},
   "outputs": [
    {
     "name": "stdout",
     "output_type": "stream",
     "text": [
      "Requirement already satisfied: pyautogui in c:\\users\\vinicius_coutinho\\anaconda3\\lib\\site-packages (0.9.53)\n",
      "Requirement already satisfied: pymsgbox in c:\\users\\vinicius_coutinho\\anaconda3\\lib\\site-packages (from pyautogui) (1.0.9)\n",
      "Requirement already satisfied: PyTweening>=1.0.1 in c:\\users\\vinicius_coutinho\\anaconda3\\lib\\site-packages (from pyautogui) (1.0.4)\n",
      "Requirement already satisfied: pyscreeze>=0.1.21 in c:\\users\\vinicius_coutinho\\anaconda3\\lib\\site-packages (from pyautogui) (0.1.28)\n",
      "Requirement already satisfied: pygetwindow>=0.0.5 in c:\\users\\vinicius_coutinho\\anaconda3\\lib\\site-packages (from pyautogui) (0.0.9)\n",
      "Requirement already satisfied: mouseinfo in c:\\users\\vinicius_coutinho\\anaconda3\\lib\\site-packages (from pyautogui) (0.1.3)\n",
      "Requirement already satisfied: pyrect in c:\\users\\vinicius_coutinho\\anaconda3\\lib\\site-packages (from pygetwindow>=0.0.5->pyautogui) (0.2.0)\n",
      "Requirement already satisfied: pyperclip in c:\\users\\vinicius_coutinho\\anaconda3\\lib\\site-packages (from mouseinfo->pyautogui) (1.8.2)\n"
     ]
    },
    {
     "name": "stderr",
     "output_type": "stream",
     "text": [
      "WARNING: There was an error checking the latest version of pip.\n"
     ]
    }
   ],
   "source": [
    "!pip install pyautogui"
   ]
  },
  {
   "cell_type": "code",
   "execution_count": null,
   "id": "a5b01138",
   "metadata": {},
   "outputs": [],
   "source": [
    "\n",
    "\n",
    "# abrindo o chrome\n",
    "pyautogui.PAUSE = 1\n",
    "pyautogui.press(\"win\")\n",
    "pyautogui.write(\"chrome\")\n",
    "pyautogui.press(\"enter\")\n",
    "\n",
    "# entrando no site da hashtag\n",
    "link = \"https://www.hashtagtreinamentos.com/blog\"\n",
    "pyperclip.copy(link)\n",
    "pyautogui.hotkey(\"ctrl\", \"v\")\n",
    "pyautogui.press(\"enter\")\n",
    "\n",
    "# aguardar\n",
    "time.sleep(3)\n",
    "\n",
    "# clicando no campo de busca\n",
    "pyautogui.click(x=1508, y=585)\n",
    "\n",
    "# pesquisando campo de busca\n",
    "texto = \"classe\"\n",
    "pyperclip.copy(texto)\n",
    "pyautogui.hotkey(\"ctrl\", \"v\")\n",
    "pyautogui.press(\"enter\")\n",
    "\n",
    "# aguardar\n",
    "time.sleep(3)\n",
    "\n",
    "# clicar na imagem\n",
    "pyautogui.click(x=749, y=699)\n",
    "\n",
    "# aguardar\n",
    "time.sleep(3)\n",
    "\n",
    "# extrair o link\n",
    "pyautogui.click(x=390, y=789, button=\"right\")\n",
    "pyautogui.press(\"up\")\n",
    "pyautogui.press(\"up\")\n",
    "pyautogui.press(\"enter\")\n",
    "\n",
    "# printar o texto copiado\n",
    "texto = pyperclip.paste()\n",
    "print(texto)"
   ]
  },
  {
   "cell_type": "code",
   "execution_count": 24,
   "id": "0bc6a26d",
   "metadata": {},
   "outputs": [
    {
     "name": "stdout",
     "output_type": "stream",
     "text": [
      "pegando posicao em 5 segundos\n",
      "pegando posicao em 4 segundos\n",
      "pegando posicao em 3 segundos\n",
      "pegando posicao em 2 segundos\n",
      "pegando posicao em 1 segundos\n",
      "Point(x=471, y=721)\n"
     ]
    }
   ],
   "source": [
    "# pegando a posicao de um elemento\n",
    "for i in range(5):\n",
    "    print(f\"pegando posicao em {5 - i} segundos\")\n",
    "    time.sleep(1)\n",
    "    \n",
    "print(pyautogui.position())"
   ]
  },
  {
   "cell_type": "markdown",
   "id": "2aa65343",
   "metadata": {},
   "source": [
    "### Refatorando com classe"
   ]
  },
  {
   "cell_type": "code",
   "execution_count": 1,
   "id": "92164d9a",
   "metadata": {},
   "outputs": [],
   "source": [
    "import pyautogui\n",
    "import pyperclip\n",
    "import time\n",
    "\n",
    "class MeuRobo():\n",
    "    def __init__(self, tempo_espera):\n",
    "        self.tempo_espera = tempo_espera\n",
    "        pyautogui.PAUSE = 1\n",
    "        \n",
    "    def abrir_navegador(self,nome_programa):\n",
    "        pyautogui.press(\"win\")\n",
    "        pyautogui.write(nome_programa)\n",
    "        pyautogui.press(\"enter\")\n",
    "        \n",
    "    def entrar_site(self, site):\n",
    "        self.escrever_e_enter(site)\n",
    "        self.aguardar()\n",
    "        \n",
    "    def escrever_e_enter(self,texto):\n",
    "        pyperclip.copy(texto)\n",
    "        pyautogui.hotkey(\"ctrl\", \"v\")\n",
    "        pyautogui.press(\"enter\")\n",
    "        \n",
    "    def aguardar(self):\n",
    "        time.sleep(self.tempo_espera)\n",
    "        \n",
    "    def pesquisar_no_campo(self, texto):\n",
    "        self.escrever_e_enter(texto)\n",
    "        self.aguardar()\n",
    "        \n",
    "    def clicar(self,x,y,botao=\"left\"):\n",
    "        pyautogui.click(x, y, button=botao)\n",
    "        \n",
    "    def pegar_posicao(self):\n",
    "        for i in range(5):\n",
    "            print(f\"pegando posicao em {5 - i} segundos\")\n",
    "            time.sleep(1)\n",
    "            \n",
    "        print(pyautogui.position())\n",
    "    \n",
    "    def extrair_link(self, x, y):\n",
    "        self.clicar(x, y, botao = \"right\")\n",
    "        pyautogui.press(\"up\")\n",
    "        pyautogui.press(\"up\")\n",
    "        pyautogui.press(\"enter\")\n",
    "        \n",
    "        #printar o texto copiado\n",
    "        texto = pyperclip.paste()\n",
    "        print(texto)"
   ]
  },
  {
   "cell_type": "code",
   "execution_count": 15,
   "id": "14c9bc6d",
   "metadata": {},
   "outputs": [],
   "source": [
    "robo = MeuRobo(2)\n",
    "robo.abrir_navegador(\"chrome\")\n",
    "robo.entrar_site(\"https://www.hashtagtreinamentos.com/blog\")\n",
    "robo.clicar(x=1448, y=558)\n",
    "robo.pesquisar_no_campo(\"classe\")\n",
    "robo.clicar(x=749,y=666)\n",
    "robo.aguardar()\n",
    "\n"
   ]
  },
  {
   "cell_type": "code",
   "execution_count": null,
   "id": "98da02f5",
   "metadata": {},
   "outputs": [],
   "source": []
  }
 ],
 "metadata": {
  "kernelspec": {
   "display_name": "Python 3 (ipykernel)",
   "language": "python",
   "name": "python3"
  },
  "language_info": {
   "codemirror_mode": {
    "name": "ipython",
    "version": 3
   },
   "file_extension": ".py",
   "mimetype": "text/x-python",
   "name": "python",
   "nbconvert_exporter": "python",
   "pygments_lexer": "ipython3",
   "version": "3.9.18"
  }
 },
 "nbformat": 4,
 "nbformat_minor": 5
}
